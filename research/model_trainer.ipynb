{
 "cells": [
  {
   "cell_type": "code",
   "execution_count": 15,
   "metadata": {},
   "outputs": [],
   "source": [
    "from imutils import paths\n",
    "import cv2\n",
    "import os\n",
    "import numpy as np\n",
    "import pandas as pd\n",
    "import matplotlib.pyplot as plt\n",
    "import seaborn as sns\n",
    "from pathlib import Path\n",
    "from tensorflow.keras.preprocessing.image import img_to_array\n",
    "from tensorflow.keras.applications import Xception\n",
    "from tensorflow.keras.utils import to_categorical\n",
    "from tensorflow.keras.optimizers import SGD, Adam\n",
    "from keras.layers import Flatten, Dense, AveragePooling2D, Dropout, Input, BatchNormalization, Conv2D, Activation, MaxPooling2D\n",
    "from tensorflow.keras.optimizers.schedules import ExponentialDecay\n",
    "from keras.models import Model, Sequential\n",
    "from sklearn.model_selection import train_test_split\n",
    "from sklearn.metrics import classification_report"
   ]
  },
  {
   "cell_type": "code",
   "execution_count": 16,
   "metadata": {},
   "outputs": [],
   "source": [
    "# train_data = []\n",
    "# test_data = []\n",
    "# val_data = []\n",
    "data = []\n",
    "\n",
    "# train_labels = []\n",
    "# test_labels = []\n",
    "# val_labels = []\n",
    "labels = []\n",
    "\n",
    "train_dir = Path('../artifacts/data_ingestion/train')\n",
    "test_dir = Path('../artifacts/data_ingestion/test')\n",
    "valid_dir = Path('../artifacts/data_ingestion/valid')\n",
    "\n",
    "# populating train data\n",
    "for subdir in ['DR','No_DR']:\n",
    "    subdir_path = os.path.join(train_dir,subdir)\n",
    "\n",
    "    for file in os.listdir(subdir_path):\n",
    "        image_path = os.path.join(subdir_path,file)\n",
    "        \n",
    "        image = cv2.imread(image_path)\n",
    "        image = img_to_array(image)\n",
    "        \n",
    "        # resizing the image according to the size specification of Xception (original size - (224,224), resized to - (128,128))\n",
    "        image = cv2.resize(image, (128,128))\n",
    "        data.append(image)\n",
    "\n",
    "        labels.append(subdir)\n",
    "\n",
    "# populating test data\n",
    "for subdir in ['DR','No_DR']:\n",
    "    subdir_path = os.path.join(test_dir,subdir)\n",
    "\n",
    "    for file in os.listdir(subdir_path):\n",
    "        image_path = os.path.join(subdir_path,file)\n",
    "        \n",
    "        image = cv2.imread(image_path)\n",
    "        image = img_to_array(image)\n",
    "\n",
    "        # resizing the image according to the size specification of Xception (original size - (224,224), resized to - (128,128))\n",
    "        image = cv2.resize(image, (128,128))\n",
    "        data.append(image)\n",
    "\n",
    "        labels.append(subdir)\n",
    "        \n",
    "# populating validation data\n",
    "for subdir in ['DR','No_DR']:\n",
    "    subdir_path = os.path.join(valid_dir,subdir)\n",
    "\n",
    "    for file in os.listdir(subdir_path):\n",
    "        image_path = os.path.join(subdir_path,file)\n",
    "        \n",
    "        image = cv2.imread(image_path)\n",
    "        image = img_to_array(image)\n",
    "\n",
    "        # resizing the image according to the size specification of Xception (original size - (224,224), resized to - (128,128))\n",
    "        image = cv2.resize(image, (128,128))\n",
    "        data.append(image)\n",
    "\n",
    "        labels.append(subdir)"
   ]
  },
  {
   "cell_type": "code",
   "execution_count": 17,
   "metadata": {},
   "outputs": [
    {
     "name": "stdout",
     "output_type": "stream",
     "text": [
      "Length of data: 2838\n",
      "Length of labels: 2838\n",
      "\n",
      "\n"
     ]
    }
   ],
   "source": [
    "print(\"Length of data:\", len(data))\n",
    "print(\"Length of labels:\", len(labels))\n",
    "print('\\n')"
   ]
  },
  {
   "cell_type": "code",
   "execution_count": 18,
   "metadata": {},
   "outputs": [
    {
     "data": {
      "text/plain": [
       "(2838, 128, 128, 3)"
      ]
     },
     "execution_count": 18,
     "metadata": {},
     "output_type": "execute_result"
    }
   ],
   "source": [
    "# Converting the data and labels to numpy arrays and normalizing it\n",
    "data = np.asarray(data) / 255\n",
    "labels = np.asarray(labels)\n",
    "\n",
    "data.shape"
   ]
  },
  {
   "cell_type": "code",
   "execution_count": 19,
   "metadata": {},
   "outputs": [
    {
     "data": {
      "image/png": "[encoded data removed]",
      "text/plain": [
       "<Figure size 1200x400 with 1 Axes>"
      ]
     },
     "metadata": {},
     "output_type": "display_data"
    }
   ],
   "source": [
    "# Training Class distribution\n",
    "df = pd.DataFrame(labels, columns=[\"Labels\"])\n",
    "counts = df[\"Labels\"].value_counts()\n",
    "plt.figure(figsize=(12,4))\n",
    "sns.barplot(x=counts.index, y=counts.values, alpha=0.8)\n",
    "plt.ylabel('Number of Occurrences', fontsize=12)\n",
    "plt.xlabel('Labels', fontsize=12)\n",
    "plt.xticks(rotation=90)\n",
    "plt.show()"
   ]
  },
  {
   "cell_type": "code",
   "execution_count": 20,
   "metadata": {},
   "outputs": [],
   "source": [
    "# Encoding the labels\n",
    "from sklearn.preprocessing import LabelEncoder\n",
    "\n",
    "le = LabelEncoder()\n",
    "le.fit(labels)\n",
    "labels = to_categorical(le.transform(labels),2)"
   ]
  },
  {
   "cell_type": "markdown",
   "metadata": {},
   "source": [
    "Since the classes are balanced, there is no need to assign weights to the classes"
   ]
  },
  {
   "cell_type": "code",
   "execution_count": 21,
   "metadata": {},
   "outputs": [],
   "source": [
    "# Splitting the data into train, test, and valid\n",
    "x_train, x_test, y_train, y_test = train_test_split(data, labels, test_size=0.2,random_state=42)\n",
    "\n",
    "x_train = x_train[:-round(len(x_train)/10)]\n",
    "y_train = y_train[:-round(len(y_train)/10)]\n",
    "x_val = x_train[-round(len(x_train)/10):]\n",
    "y_val = y_train[-round(len(y_train)/10):]"
   ]
  },
  {
   "cell_type": "code",
   "execution_count": 22,
   "metadata": {},
   "outputs": [
    {
     "name": "stdout",
     "output_type": "stream",
     "text": [
      "Train data: 2043\n",
      "Test data: 568\n",
      "Validation data: 204\n"
     ]
    }
   ],
   "source": [
    "print(f\"Train data: {len(x_train)}\")\n",
    "print(f\"Test data: {len(x_test)}\")\n",
    "print(f\"Validation data: {len(x_val)}\")"
   ]
  },
  {
   "cell_type": "code",
   "execution_count": 23,
   "metadata": {},
   "outputs": [
    {
     "name": "stdout",
     "output_type": "stream",
     "text": [
      "Size of training images (2043, 128, 128, 3)\n",
      "Size of testing images (568, 128, 128, 3)\n",
      "Size of validation images (204, 128, 128, 3)\n"
     ]
    }
   ],
   "source": [
    "print(f'Size of training images {x_train.shape}')\n",
    "print(f'Size of testing images {x_test.shape}')\n",
    "print(f'Size of validation images {x_val.shape}')"
   ]
  },
  {
   "cell_type": "markdown",
   "metadata": {},
   "source": [
    "# Xception"
   ]
  },
  {
   "cell_type": "code",
   "execution_count": 24,
   "metadata": {},
   "outputs": [],
   "source": [
    "# loading pre-trained Xception model\n",
    "keras_xception = Xception(weights='imagenet',include_top=False, input_shape=x_train.shape[1:4])\n",
    "\n",
    "# creating custom FC layers\n",
    "head = keras_xception.output\n",
    "head = MaxPooling2D(pool_size=(2,2))(head)\n",
    "head = Flatten()(head)\n",
    "head = Dense(256, activation='relu')(head)\n",
    "head = Dropout(0.5)(head)\n",
    "head = Dense(2, activation='softmax')(head)\n",
    "\n",
    "model = Model(inputs=keras_xception.input, outputs=head)"
   ]
  },
  {
   "cell_type": "markdown",
   "metadata": {},
   "source": [
    "# Training with SGD Optimizer"
   ]
  },
  {
   "cell_type": "code",
   "execution_count": 25,
   "metadata": {},
   "outputs": [
    {
     "name": "stderr",
     "output_type": "stream",
     "text": [
      "WARNING:absl:At this time, the v2.11+ optimizer `tf.keras.optimizers.SGD` runs slowly on M1/M2 Macs, please use the legacy Keras optimizer instead, located at `tf.keras.optimizers.legacy.SGD`.\n"
     ]
    },
    {
     "name": "stdout",
     "output_type": "stream",
     "text": [
      "Epoch 1/5\n",
      "64/64 [==============================] - 81s 1s/step - loss: 0.4207 - accuracy: 0.8164 - val_loss: 0.1812 - val_accuracy: 0.9461\n",
      "Epoch 2/5\n",
      "64/64 [==============================] - 71s 1s/step - loss: 0.2338 - accuracy: 0.9139 - val_loss: 0.1376 - val_accuracy: 0.9510\n",
      "Epoch 3/5\n",
      "64/64 [==============================] - 68s 1s/step - loss: 0.1998 - accuracy: 0.9305 - val_loss: 0.1115 - val_accuracy: 0.9608\n",
      "Epoch 4/5\n",
      "64/64 [==============================] - 72s 1s/step - loss: 0.1781 - accuracy: 0.9388 - val_loss: 0.0980 - val_accuracy: 0.9657\n",
      "Epoch 5/5\n",
      "64/64 [==============================] - 72s 1s/step - loss: 0.1685 - accuracy: 0.9476 - val_loss: 0.0871 - val_accuracy: 0.9657\n"
     ]
    }
   ],
   "source": [
    "# Freezing the pre-trained layers so that their weights don't get updated\n",
    "for layer in keras_xception.layers:\n",
    "    layer.trainable = False\n",
    "\n",
    "lr = 0.001\n",
    "momentum = 0.9\n",
    "nesterov = True\n",
    "epochs = 5\n",
    "optimizer = SGD(learning_rate=lr, momentum=momentum, nesterov=nesterov)\n",
    "model.compile(loss='binary_crossentropy',optimizer=optimizer,metrics=['accuracy'])\n",
    "\n",
    "history = model.fit(x_train,y_train,epochs=epochs,validation_data=(x_val,y_val),batch_size=32)"
   ]
  },
  {
   "cell_type": "markdown",
   "metadata": {},
   "source": [
    "# Training with Adam Optimizer"
   ]
  },
  {
   "cell_type": "code",
   "execution_count": 26,
   "metadata": {},
   "outputs": [
    {
     "name": "stderr",
     "output_type": "stream",
     "text": [
      "WARNING:absl:At this time, the v2.11+ optimizer `tf.keras.optimizers.Adam` runs slowly on M1/M2 Macs, please use the legacy Keras optimizer instead, located at `tf.keras.optimizers.legacy.Adam`.\n"
     ]
    },
    {
     "name": "stdout",
     "output_type": "stream",
     "text": [
      "Epoch 1/5\n",
      "64/64 [==============================] - 74s 1s/step - loss: 0.5036 - accuracy: 0.8488 - val_loss: 0.1042 - val_accuracy: 0.9755\n",
      "Epoch 2/5\n",
      "64/64 [==============================] - 71s 1s/step - loss: 0.2059 - accuracy: 0.9207 - val_loss: 0.0631 - val_accuracy: 0.9853\n",
      "Epoch 3/5\n",
      "64/64 [==============================] - 70s 1s/step - loss: 0.1627 - accuracy: 0.9408 - val_loss: 0.0645 - val_accuracy: 0.9755\n",
      "Epoch 4/5\n",
      "64/64 [==============================] - 70s 1s/step - loss: 0.1521 - accuracy: 0.9452 - val_loss: 0.0499 - val_accuracy: 0.9853\n",
      "Epoch 5/5\n",
      "64/64 [==============================] - 68s 1s/step - loss: 0.1415 - accuracy: 0.9501 - val_loss: 0.0364 - val_accuracy: 0.9902\n"
     ]
    }
   ],
   "source": [
    "lr_schedule = ExponentialDecay(\n",
    "    initial_learning_rate=0.001,\n",
    "    decay_steps=1000,\n",
    "    decay_rate=0.9)\n",
    "optimizer = Adam(learning_rate=lr_schedule)\n",
    "model.compile(loss='binary_crossentropy',optimizer=optimizer,metrics=['accuracy'])\n",
    "\n",
    "history = model.fit(x_train,y_train,epochs=epochs,validation_data=(x_val,y_val),batch_size=32)"
   ]
  },
  {
   "cell_type": "markdown",
   "metadata": {},
   "source": [
    "## Plotting training and valid accuracy and loss"
   ]
  },
  {
   "cell_type": "code",
   "execution_count": 27,
   "metadata": {},
   "outputs": [
    {
     "name": "stdout",
     "output_type": "stream",
     "text": [
      "Training Accuracy: 95.0\n",
      "Validation Accuracy: 99.0\n"
     ]
    },
    {
     "data": {
      "image/png": "[encoded data removed]",
      "text/plain": [
       "<Figure size 640x480 with 1 Axes>"
      ]
     },
     "metadata": {},
     "output_type": "display_data"
    },
    {
     "data": {
      "image/png": "[encoded data removed]",
      "text/plain": [
       "<Figure size 640x480 with 1 Axes>"
      ]
     },
     "metadata": {},
     "output_type": "display_data"
    }
   ],
   "source": [
    "# Plotting loss and accuracy\n",
    "print(\"Training Accuracy:\", round(history.history['accuracy'][-1],3)*100)\n",
    "print(\"Validation Accuracy:\", round(history.history['val_accuracy'][-1],3)*100)\n",
    "# summarize history for accuracy\n",
    "plt.plot(history.history['accuracy'])\n",
    "plt.plot(history.history['val_accuracy'])\n",
    "plt.title('model accuracy')\n",
    "plt.ylabel('accuracy')\n",
    "plt.xlabel('epoch')\n",
    "plt.legend(['train_acc', 'val_acc'], loc='upper right')\n",
    "plt.show()\n",
    "\n",
    "plt.plot(history.history['loss'])\n",
    "plt.plot(history.history['val_loss'])\n",
    "plt.title('model loss')\n",
    "plt.ylabel('loss')\n",
    "plt.xlabel('epoch')\n",
    "plt.legend(['train_loss', 'val_loss'], loc='upper right')\n",
    "plt.show()"
   ]
  },
  {
   "cell_type": "markdown",
   "metadata": {},
   "source": [
    "Both accuracy and loss seems good and there are no signs of overfitting"
   ]
  },
  {
   "cell_type": "markdown",
   "metadata": {},
   "source": [
    "## Xception Report"
   ]
  },
  {
   "cell_type": "code",
   "execution_count": 28,
   "metadata": {},
   "outputs": [
    {
     "name": "stdout",
     "output_type": "stream",
     "text": [
      "18/18 [==============================] - 19s 1s/step\n",
      "              precision    recall  f1-score   support\n",
      "\n",
      "          DR       0.97      0.91      0.94       291\n",
      "       No_DR       0.92      0.97      0.94       277\n",
      "\n",
      "    accuracy                           0.94       568\n",
      "   macro avg       0.94      0.94      0.94       568\n",
      "weighted avg       0.95      0.94      0.94       568\n",
      "\n"
     ]
    }
   ],
   "source": [
    "# Test set accuracy and report (with other metrics)\n",
    "predictions = model.predict(x_test,batch_size=32)\n",
    "print(classification_report(y_test.argmax(axis=1),predictions.argmax(axis=1),target_names=le.classes_))"
   ]
  },
  {
   "cell_type": "code",
   "execution_count": null,
   "metadata": {},
   "outputs": [],
   "source": []
  }
 ],
 "metadata": {
  "kernelspec": {
   "display_name": "Python 3",
   "language": "python",
   "name": "python3"
  },
  "language_info": {
   "codemirror_mode": {
    "name": "ipython",
    "version": 3
   },
   "file_extension": ".py",
   "mimetype": "text/x-python",
   "name": "python",
   "nbconvert_exporter": "python",
   "pygments_lexer": "ipython3",
   "version": "3.9.0"
  }
 },
 "nbformat": 4,
 "nbformat_minor": 2
}
